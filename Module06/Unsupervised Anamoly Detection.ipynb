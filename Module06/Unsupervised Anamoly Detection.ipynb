{
 "cells": [
  {
   "cell_type": "code",
   "execution_count": 1,
   "id": "ea648722",
   "metadata": {},
   "outputs": [],
   "source": [
    "import pandas as pd\n",
    "import numpy as np\n",
    "import matplotlib.pyplot as plt\n",
    "import seaborn as sns\n",
    "from sklearn import preprocessing\n",
    "from sklearn.decomposition import PCA\n",
    "from sklearn.cluster import KMeans\n",
    "from sklearn.covariance import EllipticEnvelope\n",
    "from sklearn.ensemble import IsolationForest\n",
    "from sklearn.svm import OneClassSVM"
   ]
  },
  {
   "cell_type": "code",
   "execution_count": 35,
   "id": "6a71fe19",
   "metadata": {},
   "outputs": [],
   "source": [
    "# Return Series of distance between each point and its distance with the closest centroid\n",
    "def getDistanceByPoint(data,model):\n",
    "    distance = pd.Series()\n",
    "    for i in range(0,len(data)):\n",
    "        Xa = np.array(data.loc[i])\n",
    "        Xb = model.cluster_centers_[model.labels_[i]-1]\n",
    "        distance.loc[i] = np.linalg.norm(Xa - Xb)\n",
    "        #distance.set_value(i,np.linalg.norm(Xa - Xb))\n",
    "    return distance\n",
    "\n",
    "# train markov model to get transition matrix\n",
    "def getTransitionMatrix(df):\n",
    "    df = np.array(df)\n",
    "    model = msm.estimate_markov_model(df,1)\n",
    "    return model.transition_matrix\n",
    "\n",
    "# Markob Anomaly\n",
    "def markovAnomaly(df,windows_size,threshold):\n",
    "    transition_matrix = getTransitionMatrix(df)\n",
    "    real_threshold = threshold**windows_size\n",
    "    df_anomaly = []\n",
    "    for j in range(0,len(df)):\n",
    "        if (j<windows_size):\n",
    "            df_anomaly.append(0)\n",
    "        else:\n",
    "            sequence = df[j-windows_size:j]\n",
    "            sequence = sequence.reset_index(drop=True)\n",
    "            df_anomaly.append(anomalyElement(sequence,real_threshold,transition_matrix))\n",
    "    return df_anomaly"
   ]
  },
  {
   "cell_type": "code",
   "execution_count": 3,
   "id": "eec0835d",
   "metadata": {},
   "outputs": [],
   "source": [
    "df = pd.read_csv('Data/ambient_temperature_system_failure.csv')"
   ]
  },
  {
   "cell_type": "code",
   "execution_count": 4,
   "id": "255d7b02",
   "metadata": {},
   "outputs": [
    {
     "data": {
      "text/html": [
       "<div>\n",
       "<style scoped>\n",
       "    .dataframe tbody tr th:only-of-type {\n",
       "        vertical-align: middle;\n",
       "    }\n",
       "\n",
       "    .dataframe tbody tr th {\n",
       "        vertical-align: top;\n",
       "    }\n",
       "\n",
       "    .dataframe thead th {\n",
       "        text-align: right;\n",
       "    }\n",
       "</style>\n",
       "<table border=\"1\" class=\"dataframe\">\n",
       "  <thead>\n",
       "    <tr style=\"text-align: right;\">\n",
       "      <th></th>\n",
       "      <th>timestamp</th>\n",
       "      <th>value</th>\n",
       "    </tr>\n",
       "  </thead>\n",
       "  <tbody>\n",
       "    <tr>\n",
       "      <th>0</th>\n",
       "      <td>2013-07-04 00:00:00</td>\n",
       "      <td>69.880835</td>\n",
       "    </tr>\n",
       "    <tr>\n",
       "      <th>1</th>\n",
       "      <td>2013-07-04 01:00:00</td>\n",
       "      <td>71.220227</td>\n",
       "    </tr>\n",
       "    <tr>\n",
       "      <th>2</th>\n",
       "      <td>2013-07-04 02:00:00</td>\n",
       "      <td>70.877805</td>\n",
       "    </tr>\n",
       "    <tr>\n",
       "      <th>3</th>\n",
       "      <td>2013-07-04 03:00:00</td>\n",
       "      <td>68.959400</td>\n",
       "    </tr>\n",
       "    <tr>\n",
       "      <th>4</th>\n",
       "      <td>2013-07-04 04:00:00</td>\n",
       "      <td>69.283551</td>\n",
       "    </tr>\n",
       "  </tbody>\n",
       "</table>\n",
       "</div>"
      ],
      "text/plain": [
       "             timestamp      value\n",
       "0  2013-07-04 00:00:00  69.880835\n",
       "1  2013-07-04 01:00:00  71.220227\n",
       "2  2013-07-04 02:00:00  70.877805\n",
       "3  2013-07-04 03:00:00  68.959400\n",
       "4  2013-07-04 04:00:00  69.283551"
      ]
     },
     "execution_count": 4,
     "metadata": {},
     "output_type": "execute_result"
    }
   ],
   "source": [
    "df.head()"
   ]
  },
  {
   "cell_type": "code",
   "execution_count": 5,
   "id": "872bfcfe",
   "metadata": {},
   "outputs": [
    {
     "name": "stdout",
     "output_type": "stream",
     "text": [
      "<class 'pandas.core.frame.DataFrame'>\n",
      "RangeIndex: 7267 entries, 0 to 7266\n",
      "Data columns (total 2 columns):\n",
      " #   Column     Non-Null Count  Dtype  \n",
      "---  ------     --------------  -----  \n",
      " 0   timestamp  7267 non-null   object \n",
      " 1   value      7267 non-null   float64\n",
      "dtypes: float64(1), object(1)\n",
      "memory usage: 113.7+ KB\n"
     ]
    }
   ],
   "source": [
    "df.info()"
   ]
  },
  {
   "cell_type": "code",
   "execution_count": 6,
   "id": "1d4ac97e",
   "metadata": {},
   "outputs": [
    {
     "data": {
      "text/plain": [
       "71.2424327082882"
      ]
     },
     "execution_count": 6,
     "metadata": {},
     "output_type": "execute_result"
    }
   ],
   "source": [
    "df['value'].mean()"
   ]
  },
  {
   "cell_type": "code",
   "execution_count": 8,
   "id": "35a80969",
   "metadata": {},
   "outputs": [
    {
     "data": {
      "text/plain": [
       "<AxesSubplot:xlabel='timestamp'>"
      ]
     },
     "execution_count": 8,
     "metadata": {},
     "output_type": "execute_result"
    },
    {
     "data": {
      "image/png": "[encoded data removed]",
      "text/plain": [
       "<Figure size 432x288 with 1 Axes>"
      ]
     },
     "metadata": {
      "needs_background": "light"
     },
     "output_type": "display_data"
    }
   ],
   "source": [
    "df['timestamp'] = pd.to_datetime(df['timestamp'])\n",
    "# Change from fahrenheit to Celcius\n",
    "df['value'] = (df['value'] - 32) * 5/9\n",
    "# plot the data\n",
    "df.plot(x='timestamp',y='value')"
   ]
  },
  {
   "cell_type": "code",
   "execution_count": 10,
   "id": "2fb27a80",
   "metadata": {},
   "outputs": [],
   "source": [
    "# Feature Engineering (07:00 to 22:00)\n",
    "# the hours and if it's night or day\n",
    "df['hours'] = df['timestamp'].dt.hour\n",
    "df['daylight'] = ((df['hours'] >= 7) & (df['hours']<=22)).astype(int)"
   ]
  },
  {
   "cell_type": "code",
   "execution_count": 14,
   "id": "885042a3",
   "metadata": {},
   "outputs": [],
   "source": [
    "df['DayOfTheWeek'] = df['timestamp'].dt.dayofweek\n",
    "df['WeekDay'] = (df['DayOfTheWeek'] < 5).astype(int)\n",
    "outliers_fraction = 0.01"
   ]
  },
  {
   "cell_type": "code",
   "execution_count": 15,
   "id": "e728fe65",
   "metadata": {},
   "outputs": [
    {
     "name": "stderr",
     "output_type": "stream",
     "text": [
      "C:\\Users\\conne\\AppData\\Local\\Temp/ipykernel_3388/38874915.py:1: FutureWarning: casting datetime64[ns] values to int64 with .astype(...) is deprecated and will raise in a future version. Use .view(...) instead.\n",
      "  df['time_epoch'] = (df['timestamp'].astype(np.int64)/100000000000).astype(np.int64)\n"
     ]
    }
   ],
   "source": [
    "df['time_epoch'] = (df['timestamp'].astype(np.int64)/100000000000).astype(np.int64)"
   ]
  },
  {
   "cell_type": "code",
   "execution_count": 20,
   "id": "0be29292",
   "metadata": {},
   "outputs": [
    {
     "data": {
      "text/html": [
       "<div>\n",
       "<style scoped>\n",
       "    .dataframe tbody tr th:only-of-type {\n",
       "        vertical-align: middle;\n",
       "    }\n",
       "\n",
       "    .dataframe tbody tr th {\n",
       "        vertical-align: top;\n",
       "    }\n",
       "\n",
       "    .dataframe thead th {\n",
       "        text-align: right;\n",
       "    }\n",
       "</style>\n",
       "<table border=\"1\" class=\"dataframe\">\n",
       "  <thead>\n",
       "    <tr style=\"text-align: right;\">\n",
       "      <th></th>\n",
       "      <th>timestamp</th>\n",
       "      <th>value</th>\n",
       "      <th>hours</th>\n",
       "      <th>daylight</th>\n",
       "      <th>DayOfTheWeek</th>\n",
       "      <th>WeekDay</th>\n",
       "      <th>time_epoch</th>\n",
       "      <th>categories</th>\n",
       "    </tr>\n",
       "  </thead>\n",
       "  <tbody>\n",
       "    <tr>\n",
       "      <th>0</th>\n",
       "      <td>2013-07-04 00:00:00</td>\n",
       "      <td>-6.086162</td>\n",
       "      <td>0</td>\n",
       "      <td>0</td>\n",
       "      <td>3</td>\n",
       "      <td>1</td>\n",
       "      <td>13728960</td>\n",
       "      <td>2</td>\n",
       "    </tr>\n",
       "    <tr>\n",
       "      <th>1</th>\n",
       "      <td>2013-07-04 01:00:00</td>\n",
       "      <td>-5.672769</td>\n",
       "      <td>1</td>\n",
       "      <td>0</td>\n",
       "      <td>3</td>\n",
       "      <td>1</td>\n",
       "      <td>13728996</td>\n",
       "      <td>2</td>\n",
       "    </tr>\n",
       "    <tr>\n",
       "      <th>2</th>\n",
       "      <td>2013-07-04 02:00:00</td>\n",
       "      <td>-5.778455</td>\n",
       "      <td>2</td>\n",
       "      <td>0</td>\n",
       "      <td>3</td>\n",
       "      <td>1</td>\n",
       "      <td>13729032</td>\n",
       "      <td>2</td>\n",
       "    </tr>\n",
       "    <tr>\n",
       "      <th>3</th>\n",
       "      <td>2013-07-04 03:00:00</td>\n",
       "      <td>-6.370556</td>\n",
       "      <td>3</td>\n",
       "      <td>0</td>\n",
       "      <td>3</td>\n",
       "      <td>1</td>\n",
       "      <td>13729068</td>\n",
       "      <td>2</td>\n",
       "    </tr>\n",
       "    <tr>\n",
       "      <th>4</th>\n",
       "      <td>2013-07-04 04:00:00</td>\n",
       "      <td>-6.270509</td>\n",
       "      <td>4</td>\n",
       "      <td>0</td>\n",
       "      <td>3</td>\n",
       "      <td>1</td>\n",
       "      <td>13729104</td>\n",
       "      <td>2</td>\n",
       "    </tr>\n",
       "    <tr>\n",
       "      <th>5</th>\n",
       "      <td>2013-07-04 05:00:00</td>\n",
       "      <td>-6.030566</td>\n",
       "      <td>5</td>\n",
       "      <td>0</td>\n",
       "      <td>3</td>\n",
       "      <td>1</td>\n",
       "      <td>13729140</td>\n",
       "      <td>2</td>\n",
       "    </tr>\n",
       "    <tr>\n",
       "      <th>6</th>\n",
       "      <td>2013-07-04 06:00:00</td>\n",
       "      <td>-6.271678</td>\n",
       "      <td>6</td>\n",
       "      <td>0</td>\n",
       "      <td>3</td>\n",
       "      <td>1</td>\n",
       "      <td>13729176</td>\n",
       "      <td>2</td>\n",
       "    </tr>\n",
       "    <tr>\n",
       "      <th>7</th>\n",
       "      <td>2013-07-04 07:00:00</td>\n",
       "      <td>-6.243948</td>\n",
       "      <td>7</td>\n",
       "      <td>1</td>\n",
       "      <td>3</td>\n",
       "      <td>1</td>\n",
       "      <td>13729212</td>\n",
       "      <td>3</td>\n",
       "    </tr>\n",
       "    <tr>\n",
       "      <th>8</th>\n",
       "      <td>2013-07-04 08:00:00</td>\n",
       "      <td>-6.306570</td>\n",
       "      <td>8</td>\n",
       "      <td>1</td>\n",
       "      <td>3</td>\n",
       "      <td>1</td>\n",
       "      <td>13729248</td>\n",
       "      <td>3</td>\n",
       "    </tr>\n",
       "    <tr>\n",
       "      <th>9</th>\n",
       "      <td>2013-07-04 09:00:00</td>\n",
       "      <td>-6.362320</td>\n",
       "      <td>9</td>\n",
       "      <td>1</td>\n",
       "      <td>3</td>\n",
       "      <td>1</td>\n",
       "      <td>13729284</td>\n",
       "      <td>3</td>\n",
       "    </tr>\n",
       "    <tr>\n",
       "      <th>10</th>\n",
       "      <td>2013-07-04 10:00:00</td>\n",
       "      <td>-6.060166</td>\n",
       "      <td>10</td>\n",
       "      <td>1</td>\n",
       "      <td>3</td>\n",
       "      <td>1</td>\n",
       "      <td>13729320</td>\n",
       "      <td>3</td>\n",
       "    </tr>\n",
       "    <tr>\n",
       "      <th>11</th>\n",
       "      <td>2013-07-04 11:00:00</td>\n",
       "      <td>-5.877718</td>\n",
       "      <td>11</td>\n",
       "      <td>1</td>\n",
       "      <td>3</td>\n",
       "      <td>1</td>\n",
       "      <td>13729356</td>\n",
       "      <td>3</td>\n",
       "    </tr>\n",
       "    <tr>\n",
       "      <th>12</th>\n",
       "      <td>2013-07-04 12:00:00</td>\n",
       "      <td>-5.954474</td>\n",
       "      <td>12</td>\n",
       "      <td>1</td>\n",
       "      <td>3</td>\n",
       "      <td>1</td>\n",
       "      <td>13729392</td>\n",
       "      <td>3</td>\n",
       "    </tr>\n",
       "    <tr>\n",
       "      <th>13</th>\n",
       "      <td>2013-07-04 13:00:00</td>\n",
       "      <td>-5.973379</td>\n",
       "      <td>13</td>\n",
       "      <td>1</td>\n",
       "      <td>3</td>\n",
       "      <td>1</td>\n",
       "      <td>13729428</td>\n",
       "      <td>3</td>\n",
       "    </tr>\n",
       "    <tr>\n",
       "      <th>14</th>\n",
       "      <td>2013-07-04 14:00:00</td>\n",
       "      <td>-6.094164</td>\n",
       "      <td>14</td>\n",
       "      <td>1</td>\n",
       "      <td>3</td>\n",
       "      <td>1</td>\n",
       "      <td>13729464</td>\n",
       "      <td>3</td>\n",
       "    </tr>\n",
       "  </tbody>\n",
       "</table>\n",
       "</div>"
      ],
      "text/plain": [
       "             timestamp     value  hours  daylight  DayOfTheWeek  WeekDay  \\\n",
       "0  2013-07-04 00:00:00 -6.086162      0         0             3        1   \n",
       "1  2013-07-04 01:00:00 -5.672769      1         0             3        1   \n",
       "2  2013-07-04 02:00:00 -5.778455      2         0             3        1   \n",
       "3  2013-07-04 03:00:00 -6.370556      3         0             3        1   \n",
       "4  2013-07-04 04:00:00 -6.270509      4         0             3        1   \n",
       "5  2013-07-04 05:00:00 -6.030566      5         0             3        1   \n",
       "6  2013-07-04 06:00:00 -6.271678      6         0             3        1   \n",
       "7  2013-07-04 07:00:00 -6.243948      7         1             3        1   \n",
       "8  2013-07-04 08:00:00 -6.306570      8         1             3        1   \n",
       "9  2013-07-04 09:00:00 -6.362320      9         1             3        1   \n",
       "10 2013-07-04 10:00:00 -6.060166     10         1             3        1   \n",
       "11 2013-07-04 11:00:00 -5.877718     11         1             3        1   \n",
       "12 2013-07-04 12:00:00 -5.954474     12         1             3        1   \n",
       "13 2013-07-04 13:00:00 -5.973379     13         1             3        1   \n",
       "14 2013-07-04 14:00:00 -6.094164     14         1             3        1   \n",
       "\n",
       "    time_epoch  categories  \n",
       "0     13728960           2  \n",
       "1     13728996           2  \n",
       "2     13729032           2  \n",
       "3     13729068           2  \n",
       "4     13729104           2  \n",
       "5     13729140           2  \n",
       "6     13729176           2  \n",
       "7     13729212           3  \n",
       "8     13729248           3  \n",
       "9     13729284           3  \n",
       "10    13729320           3  \n",
       "11    13729356           3  \n",
       "12    13729392           3  \n",
       "13    13729428           3  \n",
       "14    13729464           3  "
      ]
     },
     "execution_count": 20,
     "metadata": {},
     "output_type": "execute_result"
    }
   ],
   "source": [
    "df.head(15)"
   ]
  },
  {
   "cell_type": "code",
   "execution_count": 21,
   "id": "e8a185c9",
   "metadata": {},
   "outputs": [
    {
     "data": {
      "text/plain": [
       "<Figure size 720x432 with 0 Axes>"
      ]
     },
     "metadata": {},
     "output_type": "display_data"
    },
    {
     "data": {
      "image/png": "[encoded data removed]",
      "text/plain": [
       "<Figure size 432x288 with 1 Axes>"
      ]
     },
     "metadata": {
      "needs_background": "light"
     },
     "output_type": "display_data"
    }
   ],
   "source": [
    "# creation of 4 distint categories that seem useful (week end/day & night/day)\n",
    "df['categories'] = df['WeekDay']*2 + df['daylight']\n",
    "\n",
    "a = df.loc[df['categories'] == 0,'value']\n",
    "b = df.loc[df['categories'] == 1,'value']\n",
    "c = df.loc[df['categories'] == 2,'value']\n",
    "d = df.loc[df['categories'] == 3,'value']\n",
    "\n",
    "plt.figure(figsize=(10,6))\n",
    "fig,ax = plt.subplots()\n",
    "a_heights , a_bins = np.histogram(a)\n",
    "b_heights , b_bins = np.histogram(b,bins=a_bins)\n",
    "c_heights , c_bins = np.histogram(c,bins=a_bins)\n",
    "d_heights , d_bins = np.histogram(d,bins=a_bins)\n",
    "\n",
    "width = (a_bins[1]-a_bins[0])/6\n",
    "\n",
    "ax.bar(a_bins[:-1],(a_heights*100/a.count()),width=width,facecolor='blue',label=\"WeekEndNight\")\n",
    "ax.bar(b_bins[:-1]+width,(b_heights*100/b.count()),width=width,facecolor='green',label=\"WeekEndLight\")\n",
    "ax.bar(a_bins[:-1]+width*2,(c_heights*100/c.count()),width=width,facecolor='red',label=\"WeekDayNight\")\n",
    "ax.bar(a_bins[:-1]+width*3,(d_heights*100/d.count()),width=width,facecolor='black',label=\"WeekDayLight\")\n",
    "plt.legend()\n",
    "plt.show()"
   ]
  },
  {
   "cell_type": "markdown",
   "id": "3c7771f9",
   "metadata": {},
   "source": [
    "# Models"
   ]
  },
  {
   "cell_type": "code",
   "execution_count": 23,
   "id": "30a64ec8",
   "metadata": {},
   "outputs": [],
   "source": [
    "# Take usefull data and normalize them or standardize them\n",
    "data = df[['value','hours','daylight','DayOfTheWeek','WeekDay']]\n",
    "min_max_scaler = preprocessing.StandardScaler()\n",
    "np_scaled = min_max_scaler.fit_transform(data)\n",
    "data = pd.DataFrame(np_scaled)\n",
    "# Reduce to 2 important features\n",
    "pca = PCA(n_components=2)\n",
    "data = pca.fit_transform(data)\n",
    "# standarize these 2 features\n",
    "min_max_scaler = preprocessing.StandardScaler()\n",
    "np_scaled = min_max_scaler.fit_transform(data)\n",
    "data = pd.DataFrame(np_scaled)"
   ]
  },
  {
   "cell_type": "code",
   "execution_count": 24,
   "id": "97f3ae5f",
   "metadata": {},
   "outputs": [
    {
     "data": {
      "text/html": [
       "<div>\n",
       "<style scoped>\n",
       "    .dataframe tbody tr th:only-of-type {\n",
       "        vertical-align: middle;\n",
       "    }\n",
       "\n",
       "    .dataframe tbody tr th {\n",
       "        vertical-align: top;\n",
       "    }\n",
       "\n",
       "    .dataframe thead th {\n",
       "        text-align: right;\n",
       "    }\n",
       "</style>\n",
       "<table border=\"1\" class=\"dataframe\">\n",
       "  <thead>\n",
       "    <tr style=\"text-align: right;\">\n",
       "      <th></th>\n",
       "      <th>0</th>\n",
       "      <th>1</th>\n",
       "    </tr>\n",
       "  </thead>\n",
       "  <tbody>\n",
       "    <tr>\n",
       "      <th>0</th>\n",
       "      <td>0.066191</td>\n",
       "      <td>1.755363</td>\n",
       "    </tr>\n",
       "    <tr>\n",
       "      <th>1</th>\n",
       "      <td>-0.009413</td>\n",
       "      <td>1.647609</td>\n",
       "    </tr>\n",
       "    <tr>\n",
       "      <th>2</th>\n",
       "      <td>-0.009359</td>\n",
       "      <td>1.577677</td>\n",
       "    </tr>\n",
       "    <tr>\n",
       "      <th>3</th>\n",
       "      <td>0.061592</td>\n",
       "      <td>1.543184</td>\n",
       "    </tr>\n",
       "    <tr>\n",
       "      <th>4</th>\n",
       "      <td>0.031660</td>\n",
       "      <td>1.458262</td>\n",
       "    </tr>\n",
       "  </tbody>\n",
       "</table>\n",
       "</div>"
      ],
      "text/plain": [
       "          0         1\n",
       "0  0.066191  1.755363\n",
       "1 -0.009413  1.647609\n",
       "2 -0.009359  1.577677\n",
       "3  0.061592  1.543184\n",
       "4  0.031660  1.458262"
      ]
     },
     "execution_count": 24,
     "metadata": {},
     "output_type": "execute_result"
    }
   ],
   "source": [
    "data.head()"
   ]
  },
  {
   "cell_type": "code",
   "execution_count": 25,
   "id": "1d5ded21",
   "metadata": {},
   "outputs": [
    {
     "data": {
      "image/png": "[encoded data removed]",
      "text/plain": [
       "<Figure size 432x288 with 1 Axes>"
      ]
     },
     "metadata": {
      "needs_background": "light"
     },
     "output_type": "display_data"
    }
   ],
   "source": [
    "n_cluster = range(1,20)\n",
    "kmeans = [KMeans(n_clusters=i).fit(data) for i in n_cluster]\n",
    "scores = [kmeans[i].score(data) for i in range(len(kmeans))]\n",
    "fig,ax = plt.subplots()\n",
    "ax.plot(n_cluster,scores)\n",
    "plt.show()"
   ]
  },
  {
   "cell_type": "code",
   "execution_count": 26,
   "id": "a3701c33",
   "metadata": {},
   "outputs": [
    {
     "data": {
      "text/plain": [
       "9     712\n",
       "11    651\n",
       "1     632\n",
       "14    615\n",
       "13    587\n",
       "0     585\n",
       "4     578\n",
       "7     533\n",
       "5     432\n",
       "3     358\n",
       "8     350\n",
       "6     349\n",
       "10    339\n",
       "2     308\n",
       "12    238\n",
       "Name: cluster, dtype: int64"
      ]
     },
     "execution_count": 26,
     "metadata": {},
     "output_type": "execute_result"
    }
   ],
   "source": [
    "# Randomly choosing 15 centriod for these data\n",
    "df['cluster'] = kmeans[14].predict(data)\n",
    "df['precipal_feature1'] = data[0]\n",
    "df['precipal_feature2'] = data[1]\n",
    "df['cluster'].value_counts()"
   ]
  },
  {
   "cell_type": "code",
   "execution_count": 30,
   "id": "b2d8c0d6",
   "metadata": {},
   "outputs": [
    {
     "data": {
      "image/png": "[encoded data removed]",
      "text/plain": [
       "<Figure size 432x288 with 1 Axes>"
      ]
     },
     "metadata": {
      "needs_background": "light"
     },
     "output_type": "display_data"
    }
   ],
   "source": [
    "fig,ax = plt.subplots()\n",
    "colors= {0:'red',1:'blue',2:'green',3:'pink',4:'black',5:'orange',6:'cyan',7:'yellow',8:'brown',9:'purple',10:'white',11:'grey',\n",
    "        12:'lightblue',13:'lightgreen',14:'darkgrey'}\n",
    "ax.scatter(df['precipal_feature1'],df['precipal_feature2'],c=df['cluster'].apply(lambda x:colors[x]))\n",
    "plt.show()"
   ]
  },
  {
   "cell_type": "code",
   "execution_count": 36,
   "id": "5c309ad6",
   "metadata": {},
   "outputs": [
    {
     "name": "stderr",
     "output_type": "stream",
     "text": [
      "C:\\Users\\conne\\AppData\\Local\\Temp/ipykernel_3388/1442477583.py:3: DeprecationWarning: The default dtype for empty Series will be 'object' instead of 'float64' in a future version. Specify a dtype explicitly to silence this warning.\n",
      "  distance = pd.Series()\n"
     ]
    }
   ],
   "source": [
    "# get the distance between each point and its nearest centriod. the biggest distance are considers as anamoly\n",
    "distance = getDistanceByPoint(data,kmeans[14])\n",
    "number_of_outliers = int(outliers_fraction* len(distance))\n",
    "threshold = distance.nlargest(number_of_outliers).min()\n",
    "df['anamoly21'] = (distance >= threshold).astype(int)"
   ]
  },
  {
   "cell_type": "code",
   "execution_count": 37,
   "id": "0b9660ab",
   "metadata": {},
   "outputs": [
    {
     "data": {
      "text/html": [
       "<div>\n",
       "<style scoped>\n",
       "    .dataframe tbody tr th:only-of-type {\n",
       "        vertical-align: middle;\n",
       "    }\n",
       "\n",
       "    .dataframe tbody tr th {\n",
       "        vertical-align: top;\n",
       "    }\n",
       "\n",
       "    .dataframe thead th {\n",
       "        text-align: right;\n",
       "    }\n",
       "</style>\n",
       "<table border=\"1\" class=\"dataframe\">\n",
       "  <thead>\n",
       "    <tr style=\"text-align: right;\">\n",
       "      <th></th>\n",
       "      <th>timestamp</th>\n",
       "      <th>value</th>\n",
       "      <th>hours</th>\n",
       "      <th>daylight</th>\n",
       "      <th>DayOfTheWeek</th>\n",
       "      <th>WeekDay</th>\n",
       "      <th>time_epoch</th>\n",
       "      <th>categories</th>\n",
       "      <th>cluster</th>\n",
       "      <th>precipal_feature1</th>\n",
       "      <th>precipal_feature2</th>\n",
       "      <th>anamoly21</th>\n",
       "    </tr>\n",
       "  </thead>\n",
       "  <tbody>\n",
       "    <tr>\n",
       "      <th>0</th>\n",
       "      <td>2013-07-04 00:00:00</td>\n",
       "      <td>-6.086162</td>\n",
       "      <td>0</td>\n",
       "      <td>0</td>\n",
       "      <td>3</td>\n",
       "      <td>1</td>\n",
       "      <td>13728960</td>\n",
       "      <td>2</td>\n",
       "      <td>13</td>\n",
       "      <td>0.066191</td>\n",
       "      <td>1.755363</td>\n",
       "      <td>0</td>\n",
       "    </tr>\n",
       "    <tr>\n",
       "      <th>1</th>\n",
       "      <td>2013-07-04 01:00:00</td>\n",
       "      <td>-5.672769</td>\n",
       "      <td>1</td>\n",
       "      <td>0</td>\n",
       "      <td>3</td>\n",
       "      <td>1</td>\n",
       "      <td>13728996</td>\n",
       "      <td>2</td>\n",
       "      <td>13</td>\n",
       "      <td>-0.009413</td>\n",
       "      <td>1.647609</td>\n",
       "      <td>0</td>\n",
       "    </tr>\n",
       "    <tr>\n",
       "      <th>2</th>\n",
       "      <td>2013-07-04 02:00:00</td>\n",
       "      <td>-5.778455</td>\n",
       "      <td>2</td>\n",
       "      <td>0</td>\n",
       "      <td>3</td>\n",
       "      <td>1</td>\n",
       "      <td>13729032</td>\n",
       "      <td>2</td>\n",
       "      <td>13</td>\n",
       "      <td>-0.009359</td>\n",
       "      <td>1.577677</td>\n",
       "      <td>0</td>\n",
       "    </tr>\n",
       "    <tr>\n",
       "      <th>3</th>\n",
       "      <td>2013-07-04 03:00:00</td>\n",
       "      <td>-6.370556</td>\n",
       "      <td>3</td>\n",
       "      <td>0</td>\n",
       "      <td>3</td>\n",
       "      <td>1</td>\n",
       "      <td>13729068</td>\n",
       "      <td>2</td>\n",
       "      <td>13</td>\n",
       "      <td>0.061592</td>\n",
       "      <td>1.543184</td>\n",
       "      <td>0</td>\n",
       "    </tr>\n",
       "    <tr>\n",
       "      <th>4</th>\n",
       "      <td>2013-07-04 04:00:00</td>\n",
       "      <td>-6.270509</td>\n",
       "      <td>4</td>\n",
       "      <td>0</td>\n",
       "      <td>3</td>\n",
       "      <td>1</td>\n",
       "      <td>13729104</td>\n",
       "      <td>2</td>\n",
       "      <td>13</td>\n",
       "      <td>0.031660</td>\n",
       "      <td>1.458262</td>\n",
       "      <td>0</td>\n",
       "    </tr>\n",
       "    <tr>\n",
       "      <th>5</th>\n",
       "      <td>2013-07-04 05:00:00</td>\n",
       "      <td>-6.030566</td>\n",
       "      <td>5</td>\n",
       "      <td>0</td>\n",
       "      <td>3</td>\n",
       "      <td>1</td>\n",
       "      <td>13729140</td>\n",
       "      <td>2</td>\n",
       "      <td>13</td>\n",
       "      <td>-0.018663</td>\n",
       "      <td>1.363146</td>\n",
       "      <td>0</td>\n",
       "    </tr>\n",
       "    <tr>\n",
       "      <th>6</th>\n",
       "      <td>2013-07-04 06:00:00</td>\n",
       "      <td>-6.271678</td>\n",
       "      <td>6</td>\n",
       "      <td>0</td>\n",
       "      <td>3</td>\n",
       "      <td>1</td>\n",
       "      <td>13729176</td>\n",
       "      <td>2</td>\n",
       "      <td>13</td>\n",
       "      <td>0.001131</td>\n",
       "      <td>1.303081</td>\n",
       "      <td>0</td>\n",
       "    </tr>\n",
       "    <tr>\n",
       "      <th>7</th>\n",
       "      <td>2013-07-04 07:00:00</td>\n",
       "      <td>-6.243948</td>\n",
       "      <td>7</td>\n",
       "      <td>1</td>\n",
       "      <td>3</td>\n",
       "      <td>1</td>\n",
       "      <td>13729212</td>\n",
       "      <td>3</td>\n",
       "      <td>7</td>\n",
       "      <td>-0.220631</td>\n",
       "      <td>0.093570</td>\n",
       "      <td>0</td>\n",
       "    </tr>\n",
       "    <tr>\n",
       "      <th>8</th>\n",
       "      <td>2013-07-04 08:00:00</td>\n",
       "      <td>-6.306570</td>\n",
       "      <td>8</td>\n",
       "      <td>1</td>\n",
       "      <td>3</td>\n",
       "      <td>1</td>\n",
       "      <td>13729248</td>\n",
       "      <td>3</td>\n",
       "      <td>7</td>\n",
       "      <td>-0.226853</td>\n",
       "      <td>0.020499</td>\n",
       "      <td>0</td>\n",
       "    </tr>\n",
       "    <tr>\n",
       "      <th>9</th>\n",
       "      <td>2013-07-04 09:00:00</td>\n",
       "      <td>-6.362320</td>\n",
       "      <td>9</td>\n",
       "      <td>1</td>\n",
       "      <td>3</td>\n",
       "      <td>1</td>\n",
       "      <td>13729284</td>\n",
       "      <td>3</td>\n",
       "      <td>7</td>\n",
       "      <td>-0.234077</td>\n",
       "      <td>-0.053072</td>\n",
       "      <td>0</td>\n",
       "    </tr>\n",
       "  </tbody>\n",
       "</table>\n",
       "</div>"
      ],
      "text/plain": [
       "            timestamp     value  hours  daylight  DayOfTheWeek  WeekDay  \\\n",
       "0 2013-07-04 00:00:00 -6.086162      0         0             3        1   \n",
       "1 2013-07-04 01:00:00 -5.672769      1         0             3        1   \n",
       "2 2013-07-04 02:00:00 -5.778455      2         0             3        1   \n",
       "3 2013-07-04 03:00:00 -6.370556      3         0             3        1   \n",
       "4 2013-07-04 04:00:00 -6.270509      4         0             3        1   \n",
       "5 2013-07-04 05:00:00 -6.030566      5         0             3        1   \n",
       "6 2013-07-04 06:00:00 -6.271678      6         0             3        1   \n",
       "7 2013-07-04 07:00:00 -6.243948      7         1             3        1   \n",
       "8 2013-07-04 08:00:00 -6.306570      8         1             3        1   \n",
       "9 2013-07-04 09:00:00 -6.362320      9         1             3        1   \n",
       "\n",
       "   time_epoch  categories  cluster  precipal_feature1  precipal_feature2  \\\n",
       "0    13728960           2       13           0.066191           1.755363   \n",
       "1    13728996           2       13          -0.009413           1.647609   \n",
       "2    13729032           2       13          -0.009359           1.577677   \n",
       "3    13729068           2       13           0.061592           1.543184   \n",
       "4    13729104           2       13           0.031660           1.458262   \n",
       "5    13729140           2       13          -0.018663           1.363146   \n",
       "6    13729176           2       13           0.001131           1.303081   \n",
       "7    13729212           3        7          -0.220631           0.093570   \n",
       "8    13729248           3        7          -0.226853           0.020499   \n",
       "9    13729284           3        7          -0.234077          -0.053072   \n",
       "\n",
       "   anamoly21  \n",
       "0          0  \n",
       "1          0  \n",
       "2          0  \n",
       "3          0  \n",
       "4          0  \n",
       "5          0  \n",
       "6          0  \n",
       "7          0  \n",
       "8          0  \n",
       "9          0  "
      ]
     },
     "execution_count": 37,
     "metadata": {},
     "output_type": "execute_result"
    }
   ],
   "source": [
    "df.head(10)"
   ]
  },
  {
   "cell_type": "code",
   "execution_count": 39,
   "id": "e2aeaa26",
   "metadata": {},
   "outputs": [
    {
     "data": {
      "text/plain": [
       "<AxesSubplot:>"
      ]
     },
     "execution_count": 39,
     "metadata": {},
     "output_type": "execute_result"
    },
    {
     "data": {
      "image/png": "[encoded data removed]",
      "text/plain": [
       "<Figure size 432x288 with 1 Axes>"
      ]
     },
     "metadata": {
      "needs_background": "light"
     },
     "output_type": "display_data"
    }
   ],
   "source": [
    "df['anamoly21'].value_counts().plot.bar()"
   ]
  },
  {
   "cell_type": "code",
   "execution_count": 42,
   "id": "84115bc3",
   "metadata": {},
   "outputs": [
    {
     "data": {
      "image/png": "[encoded data removed]",
      "text/plain": [
       "<Figure size 432x288 with 1 Axes>"
      ]
     },
     "metadata": {
      "needs_background": "light"
     },
     "output_type": "display_data"
    }
   ],
   "source": [
    "fig , ax = plt.subplots()\n",
    "colors = {0:'blue',1:'red'}\n",
    "ax.scatter(df['precipal_feature1'],df['precipal_feature2'],c=df['anamoly21'].apply(lambda x:colors[x]))\n",
    "plt.show()"
   ]
  },
  {
   "cell_type": "code",
   "execution_count": 46,
   "id": "b1dc26b0",
   "metadata": {},
   "outputs": [
    {
     "data": {
      "image/png": "[encoded data removed]",
      "text/plain": [
       "<Figure size 432x288 with 1 Axes>"
      ]
     },
     "metadata": {
      "needs_background": "light"
     },
     "output_type": "display_data"
    }
   ],
   "source": [
    "fig , ax = plt.subplots()\n",
    "a = df.loc[df['anamoly21']==1,['time_epoch','value']]\n",
    "ax.plot(df['time_epoch'],df['value'],color='blue')\n",
    "ax.scatter(a['time_epoch'],a['value'],color='red')\n",
    "plt.show()"
   ]
  },
  {
   "cell_type": "markdown",
   "id": "f9fce916",
   "metadata": {},
   "source": [
    "# Isolation Forest"
   ]
  },
  {
   "cell_type": "code",
   "execution_count": 48,
   "id": "cda832f3",
   "metadata": {},
   "outputs": [
    {
     "name": "stdout",
     "output_type": "stream",
     "text": [
      "0    7194\n",
      "1      73\n",
      "Name: anamoly25, dtype: int64\n"
     ]
    }
   ],
   "source": [
    "# Take usefull data and normalize them or standardize them\n",
    "data = df[['value','hours','daylight','DayOfTheWeek','WeekDay']]\n",
    "min_max_scaler = preprocessing.StandardScaler()\n",
    "np_scaled = min_max_scaler.fit_transform(data)\n",
    "data = pd.DataFrame(np_scaled)\n",
    "model = IsolationForest(contamination=outliers_fraction)\n",
    "model.fit(data)\n",
    "# add data to the main\n",
    "df['anamoly25'] = pd.Series(model.predict(data))\n",
    "df['anamoly25'] = df['anamoly25'].map({1:0,-1:1})\n",
    "print(df['anamoly25'].value_counts())"
   ]
  },
  {
   "cell_type": "code",
   "execution_count": 49,
   "id": "74310976",
   "metadata": {},
   "outputs": [
    {
     "data": {
      "image/png": "[encoded data removed]",
      "text/plain": [
       "<Figure size 432x288 with 1 Axes>"
      ]
     },
     "metadata": {
      "needs_background": "light"
     },
     "output_type": "display_data"
    }
   ],
   "source": [
    "fig , ax = plt.subplots()\n",
    "a = df.loc[df['anamoly25']==1,['time_epoch','value']]\n",
    "ax.plot(df['time_epoch'],df['value'],color='blue')\n",
    "ax.scatter(a['time_epoch'],a['value'],color='red')\n",
    "plt.show()"
   ]
  },
  {
   "cell_type": "markdown",
   "id": "48507402",
   "metadata": {},
   "source": [
    "# One class SVM"
   ]
  },
  {
   "cell_type": "code",
   "execution_count": 50,
   "id": "1a74ae18",
   "metadata": {},
   "outputs": [
    {
     "name": "stdout",
     "output_type": "stream",
     "text": [
      "0    7198\n",
      "1      69\n",
      "Name: anamoly26, dtype: int64\n"
     ]
    }
   ],
   "source": [
    "# Take usefull data and normalize them or standardize them\n",
    "data = df[['value','hours','daylight','DayOfTheWeek','WeekDay']]\n",
    "min_max_scaler = preprocessing.StandardScaler()\n",
    "np_scaled = min_max_scaler.fit_transform(data)\n",
    "model = OneClassSVM(nu=0.95*outliers_fraction)\n",
    "data = pd.DataFrame(np_scaled)\n",
    "model.fit(data)\n",
    "# add data to the main\n",
    "df['anamoly26'] = pd.Series(model.predict(data))\n",
    "df['anamoly26'] = df['anamoly26'].map({1:0,-1:1})\n",
    "print(df['anamoly26'].value_counts())"
   ]
  },
  {
   "cell_type": "code",
   "execution_count": 51,
   "id": "af3e4486",
   "metadata": {},
   "outputs": [
    {
     "data": {
      "image/png": "[encoded data removed]",
      "text/plain": [
       "<Figure size 432x288 with 1 Axes>"
      ]
     },
     "metadata": {
      "needs_background": "light"
     },
     "output_type": "display_data"
    }
   ],
   "source": [
    "fig , ax = plt.subplots()\n",
    "a = df.loc[df['anamoly26']==1,['time_epoch','value']]\n",
    "ax.plot(df['time_epoch'],df['value'],color='blue')\n",
    "ax.scatter(a['time_epoch'],a['value'],color='red')\n",
    "plt.show()"
   ]
  },
  {
   "cell_type": "code",
   "execution_count": null,
   "id": "77d261d4",
   "metadata": {},
   "outputs": [],
   "source": []
  }
 ],
 "metadata": {
  "kernelspec": {
   "display_name": "Python 3 (ipykernel)",
   "language": "python",
   "name": "python3"
  },
  "language_info": {
   "codemirror_mode": {
    "name": "ipython",
    "version": 3
   },
   "file_extension": ".py",
   "mimetype": "text/x-python",
   "name": "python",
   "nbconvert_exporter": "python",
   "pygments_lexer": "ipython3",
   "version": "3.9.7"
  }
 },
 "nbformat": 4,
 "nbformat_minor": 5
}
